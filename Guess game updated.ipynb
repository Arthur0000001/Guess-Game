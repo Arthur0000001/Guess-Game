{
 "cells": [
  {
   "cell_type": "code",
   "execution_count": 3,
   "id": "5740f5af",
   "metadata": {},
   "outputs": [
    {
     "name": "stdout",
     "output_type": "stream",
     "text": [
      "I'm thinking of a number! Try to guess the number I'm thinking of\n",
      "Enter your Guess: 1\n",
      "Too High! Guess again\n",
      "Would you like to play again. Press 'n' to quit. Any other input to play.\n",
      "Enter your Guess: -20\n",
      "Too High! Guess again\n",
      "Would you like to play again. Press 'n' to quit. Any other input to play.\n",
      "Enter your Guess: -40\n",
      "Too High! Guess again\n",
      "Would you like to play again. Press 'n' to quit. Any other input to play.\n",
      "Enter your Guess: -60\n",
      "Too High! Guess again\n",
      "Would you like to play again. Press 'n' to quit. Any other input to play.\n",
      "Enter your Guess: -80\n",
      "\u001b[1m\n",
      "BINGO! You Won \n",
      "Your Score:  600\n"
     ]
    }
   ],
   "source": [
    "import random\n",
    "n=random.randint(-100,100)\n",
    "max_tries=10\n",
    "print(\"I'm thinking of a number! Try to guess the number I'm thinking of\")\n",
    "s=0\n",
    "while s<max_tries:\n",
    "    m=int(input(\"Enter your Guess: \"))\n",
    "    if n==m:\n",
    "        print('\\33[1m'\"\\nBINGO! You Won \\nYour Score: \",(10-s)*100)\n",
    "        break\n",
    "    elif m>n-3 and m<n+3:\n",
    "        print(\"Almost There\")\n",
    "    elif m>n-10 and m<n+10:\n",
    "        print(\"Very close! Keep guessing\")\n",
    "    elif n<m:\n",
    "        print(\"Too High! Guess again\")\n",
    "        l=(input(\"Would you like to play again. Press 'n' to quit. Any other input to play.\"))\n",
    "        if l=='n':\n",
    "            print('\\33[1m'\"\\nThank you for playing \\nYour Score: \",(10-s)*10)\n",
    "            break\n",
    "    elif n>m:\n",
    "        print(\"Too Low! Guess again\")\n",
    "        l=(input(\"Would you like to play again. Press 'n' to quit. Any other input to play.\"))\n",
    "        if l=='n':\n",
    "            print('\\33[1m'\"\\nThank you for playing \\nYour Score: \",(10-s)*10)\n",
    "            break\n",
    "    s+=1\n",
    "else:\n",
    "    print('\\33[1m'\"Sorry You have exhausted your maximum number of tries. Your Score: \",0)"
   ]
  },
  {
   "cell_type": "code",
   "execution_count": null,
   "id": "359873af",
   "metadata": {},
   "outputs": [],
   "source": []
  }
 ],
 "metadata": {
  "kernelspec": {
   "display_name": "Python 3 (ipykernel)",
   "language": "python",
   "name": "python3"
  },
  "language_info": {
   "codemirror_mode": {
    "name": "ipython",
    "version": 3
   },
   "file_extension": ".py",
   "mimetype": "text/x-python",
   "name": "python",
   "nbconvert_exporter": "python",
   "pygments_lexer": "ipython3",
   "version": "3.9.12"
  }
 },
 "nbformat": 4,
 "nbformat_minor": 5
}
